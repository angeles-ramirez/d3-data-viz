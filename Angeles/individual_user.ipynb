{
 "cells": [
  {
   "cell_type": "code",
   "execution_count": 1,
   "metadata": {},
   "outputs": [],
   "source": [
    "from pprint import pprint\n",
    "import json, csv\n",
    "import pandas as pd\n",
    "from pandas.io.json import json_normalize\n",
    "import numpy as np\n",
    "import requests, json, csv\n",
    "from twython import Twython, TwythonStreamer\n",
    "from tweepy.streaming import StreamListener\n",
    "from tweepy import OAuthHandler, Stream, API, Cursor\n",
    "import twitter_credentials\n",
    "import tweepy\n",
    "from pathlib import Path\n"
   ]
  },
  {
   "cell_type": "code",
   "execution_count": 2,
   "metadata": {},
   "outputs": [],
   "source": [
    "CONSUMER_KEY = 'Hgr2TlRxnBQwANqQv6lbAPdQK'\n",
    "CONSUMER_SECRET = 'OjAgBxBOWOUcgAClfuw00KITmy1asnWwVC4DAdOtdDBtOZbtQ2'\n",
    "ACCESS_TOKEN = '1195204217041903616-Xk76aygVlQ2NjY15dZ5J6SVoGYpHrI'\n",
    "ACCESS_SECRET= 'r3dkhipY2D3DsqcHGPEUCtsq1CjpbrRzu18odz33pzyxJ'"
   ]
  },
  {
   "cell_type": "code",
   "execution_count": 3,
   "metadata": {},
   "outputs": [],
   "source": [
    "# # Path directory to save in folder\n",
    "# path = Path('Users/angy4/BootCamp-HW/Twitter API/Angeles')\n",
    "# path.mkdir(parents=True)\n",
    "# directPath = 'userTweets'\n",
    "# if not os.path.isdir(directPath):\n",
    "#     os.makedirs(directPath)\n",
    "    \n",
    "#     with open('{file_path}.csv'.format(file_path=os.path.join(dir_path, file_name), 'w+') as csv_file:\n"
   ]
  },
  {
   "cell_type": "code",
   "execution_count": 4,
   "metadata": {},
   "outputs": [
    {
     "name": "stdout",
     "output_type": "stream",
     "text": [
      "getting tweets before 1193954435187105793\n",
      "...400 tweets downloaded so far\n",
      "getting tweets before 1189232860437368831\n",
      "...600 tweets downloaded so far\n",
      "getting tweets before 1185582311103979519\n",
      "...800 tweets downloaded so far\n",
      "getting tweets before 1179036995764592639\n",
      "...1000 tweets downloaded so far\n",
      "getting tweets before 1174798769428320263\n",
      "...1200 tweets downloaded so far\n",
      "getting tweets before 1169964218759688191\n",
      "...1400 tweets downloaded so far\n",
      "getting tweets before 1165375074175725567\n",
      "...1600 tweets downloaded so far\n",
      "getting tweets before 1162031208387219455\n",
      "...1800 tweets downloaded so far\n",
      "getting tweets before 1156696677870383103\n",
      "...2000 tweets downloaded so far\n",
      "getting tweets before 1152211199943163908\n",
      "...2200 tweets downloaded so far\n",
      "getting tweets before 1148601896921436159\n",
      "...2400 tweets downloaded so far\n",
      "getting tweets before 1143588270481260544\n",
      "...2600 tweets downloaded so far\n",
      "getting tweets before 1138880296219267071\n",
      "...2800 tweets downloaded so far\n",
      "getting tweets before 1134977271167504384\n",
      "...3000 tweets downloaded so far\n",
      "getting tweets before 1127713187099549695\n",
      "...3198 tweets downloaded so far\n",
      "getting tweets before 1121445976621953023\n",
      "...3228 tweets downloaded so far\n",
      "getting tweets before 1120489709589995519\n",
      "...3228 tweets downloaded so far\n"
     ]
    }
   ],
   "source": [
    "def get_all_tweets(screen_name):\n",
    "    \n",
    "    #authorize twitter, initialize tweepy\n",
    "    auth = tweepy.OAuthHandler(CONSUMER_KEY, CONSUMER_SECRET)\n",
    "    auth.set_access_token(ACCESS_TOKEN, ACCESS_SECRET)\n",
    "    api = tweepy.API(auth)\n",
    "\n",
    "    \n",
    "#initialize a list to hold all the tweepy Tweets\n",
    "    alltweets = []\n",
    "\n",
    "#make initial request for most recent tweets (200 is the maximum allowed count)\n",
    "    new_tweets = api.user_timeline(screen_name = screen_name,count=3200)\n",
    "\n",
    "#save most recent tweets\n",
    "    alltweets.extend(new_tweets)\n",
    "\n",
    "#save the id of the oldest tweet less one\n",
    "    oldest = alltweets[-1].id - 1\n",
    "\n",
    "#keep grabbing tweets until there are no tweets left to grab\n",
    "    while len(new_tweets) > 0:\n",
    "        \n",
    "        print (\"getting tweets before %s\" % (oldest))\n",
    "\n",
    "    #all subsiquent requests use the max_id param to prevent duplicates\n",
    "        new_tweets = api.user_timeline(screen_name = screen_name,count=200,max_id=oldest)\n",
    "\n",
    "    #save most recent tweets\n",
    "        alltweets.extend(new_tweets)\n",
    "\n",
    "    #update the id of the oldest tweet less one\n",
    "        oldest = alltweets[-1].id - 1\n",
    "\n",
    "        print (\"...%s tweets downloaded so far\" % (len(alltweets)))\n",
    "\n",
    "    #transform the tweepy tweets into a 2D array that will populate the csv\t\n",
    "        outtweets = [[tweet.id_str, tweet.created_at, tweet.text.encode(\"utf-8\")] \n",
    "                 for tweet in alltweets]\n",
    "\n",
    "    #write the csv\t\n",
    "        with open('%s_tweets.json' % screen_name, 'a') as f:\n",
    "            included_cols = [2]\n",
    "            json_dumps = json.dumps(outtweets, indent=4, sort_keys=True, default=str)\n",
    "            f.write(json_dumps)\n",
    "           \n",
    "        pass\n",
    "\n",
    "\n",
    "if __name__ == '__main__':\n",
    "    #pass in the username of the account you want to download\n",
    "    \n",
    "                \n",
    "    get_all_tweets(\"BernieSanders\")\n"
   ]
  },
  {
   "cell_type": "code",
   "execution_count": null,
   "metadata": {},
   "outputs": [],
   "source": []
  },
  {
   "cell_type": "code",
   "execution_count": null,
   "metadata": {},
   "outputs": [],
   "source": []
  },
  {
   "cell_type": "code",
   "execution_count": null,
   "metadata": {},
   "outputs": [],
   "source": []
  },
  {
   "cell_type": "code",
   "execution_count": null,
   "metadata": {},
   "outputs": [],
   "source": []
  }
 ],
 "metadata": {
  "kernelspec": {
   "display_name": "Python 3",
   "language": "python",
   "name": "python3"
  },
  "language_info": {
   "codemirror_mode": {
    "name": "ipython",
    "version": 3
   },
   "file_extension": ".py",
   "mimetype": "text/x-python",
   "name": "python",
   "nbconvert_exporter": "python",
   "pygments_lexer": "ipython3",
   "version": "3.7.3"
  }
 },
 "nbformat": 4,
 "nbformat_minor": 2
}
