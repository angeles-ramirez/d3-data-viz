{
 "cells": [
  {
   "cell_type": "code",
   "execution_count": 13,
   "metadata": {},
   "outputs": [],
   "source": [
    "from pprint import pprint\n",
    "import json\n",
    "import pandas as pd\n",
    "from pandas.io.json import json_normalize\n",
    "import numpy as np\n",
    "import requests, json, csv\n",
    "from twython import Twython, TwythonStreamer\n",
    "from tweepy.streaming import StreamListener\n",
    "from tweepy import OAuthHandler, Stream, API, Cursor\n",
    "import twitter_credentials"
   ]
  },
  {
   "cell_type": "code",
   "execution_count": 14,
   "metadata": {},
   "outputs": [],
   "source": [
    "#Credentials\n",
    "consumer_key= twitter_credentials.CONSUMER_SECRET,\n",
    "consumer_secret=twitter_credentials.CONSUMER_SECRET,\n",
    "access_token_key=twitter_credentials.ACCESS_TOKEN,\n",
    "access_token_secret=twitter_credentials.ACCESS_SECRET\n",
    "    \n"
   ]
  },
  {
   "cell_type": "code",
   "execution_count": 26,
   "metadata": {},
   "outputs": [],
   "source": [
    "# Twitter Client\n",
    "class TwitterClient():\n",
    "    def __init__(self, twitter_user=None):\n",
    "        self.auth = TwitterAuthenticator().authenticate_twitter_app()\n",
    "        self.twitter_client = API(self.auth)\n",
    "\n",
    "        self.twitter_user = twitter_user\n",
    "\n",
    "    def get_twitter_client_api(self):\n",
    "        return self.twitter_client\n",
    "\n",
    "    def get_user_timeline_tweets(self, num_tweets):\n",
    "        tweets = []\n",
    "        for tweet in Cursor(self.twitter_client.user_timeline, id=self.twitter_user).items(num_tweets):\n",
    "            tweets.append(tweet)\n",
    "        return tweets\n",
    "\n",
    "    def get_friend_list(self, num_friends):\n",
    "        friend_list = []\n",
    "        for friend in Cursor(self.twitter_client.friends, id=self.twitter_user).items(num_friends):\n",
    "            friend_list.append(friend)\n",
    "        return friend_list\n",
    "\n",
    "    def get_home_timeline_tweets(self, num_tweets):\n",
    "        home_timeline_tweets = []\n",
    "        for tweet in Cursor(self.twitter_client.home_timeline, id=self.twitter_user).items(num_tweets):\n",
    "            home_timeline_tweets.append(tweet)\n",
    "        return home_timeline_tweets"
   ]
  },
  {
   "cell_type": "code",
   "execution_count": 27,
   "metadata": {},
   "outputs": [],
   "source": [
    "# Twitter Authenticator\n",
    "class TwitterAuthenticator():\n",
    "    def authenticate_twitter_app(self):\n",
    "        auth = OAuthHandler(consumer_key, consumer_secret)\n",
    "        auth.set_access_token(access_token_key,access_token_secret)\n",
    "        return auth\n",
    "\n",
    "# Filter out unwanted data\n",
    "def process_tweet(tweet):\n",
    "    d = {}\n",
    "    d['hashtags'] = [hashtag['text'] for hashtag in tweet['entities']['hashtags']]\n",
    "    d['text'] = tweet['text']\n",
    "    d['user'] = tweet['user']['screen_name']\n",
    "    d['user_loc'] = tweet['user']['location']\n",
    "    d['long']= tweet['coordinates'][0]\n",
    "    d['lat']= tweet['coordinates'][1]\n",
    "    d['place']=tweet['place']\n",
    "\n",
    "    return d\n",
    "\n",
    "\n"
   ]
  },
  {
   "cell_type": "code",
   "execution_count": 17,
   "metadata": {},
   "outputs": [],
   "source": [
    "#Save Tweets to file\n",
    "class TwitterStreamer():\n",
    "    def __init__(self):\n",
    "        self.twitter_authenticator= TwitterAuthenticator()\n",
    "    \n",
    "    def stream_tweets(self, fetched_tweets_file, hash_tag_list):\n",
    "#------------ This handles twitter auth & connection to API ---------------\n",
    "\n",
    "        listener = TwitterListener(fetched_tweets_file)\n",
    "    \n",
    "    #   authenticates twitter app by calling class\n",
    "        auth=self.twitter_authenticator.authenticate_twitter_app()\n",
    "   \n",
    "    # class Stream, passing auth to verify authentication & listener object\n",
    "        stream = Stream(auth, listener)\n",
    "\n",
    "    # Stream Filtered Tweets\n",
    "        stream.filter(track=hash_tag_list)\n",
    "        \n",
    "    #save to csv\n",
    "    def save_to_csv(self, tweet):\n",
    "        with open(r'saved_tweets.csv', 'a') as file:\n",
    "            writer = csv.writer(fetched_tweets_file)\n",
    "            writer.writerow(list(tweet.values()))\n",
    "\n"
   ]
  },
  {
   "cell_type": "code",
   "execution_count": null,
   "metadata": {},
   "outputs": [],
   "source": []
  },
  {
   "cell_type": "code",
   "execution_count": 18,
   "metadata": {},
   "outputs": [],
   "source": [
    "class TwitterListener(StreamListener):\n",
    "#   ------ Listener class just prints out received Tweets --------------  \n",
    "\n",
    "    def __init__(self, fetched_tweets_file=None):\n",
    "        if fetched_tweets_file is None:\n",
    "            fetched_tweets_file={}\n",
    "        else:\n",
    "            self.fetched_tweets_file = fetched_tweets_file\n",
    "\n",
    "    def on_data(self,data):\n",
    "        try:\n",
    "            print(data)\n",
    "            with open(self.fetched_tweets_file,'a') as tf:\n",
    "                tf.write(data)\n",
    "                \n",
    "                return True\n",
    "        except BaseException as e:\n",
    "                print(\"Error on_data %s\" % str(e))\n",
    "        return True\n",
    "        \n",
    "    def on_error(self_status):\n",
    "        print(status)\n",
    "        \n",
    "#     Override Errors & print any errors that occur\n",
    "    def on_error(self,status):\n",
    "        print(status)\n",
    "\n",
    "if __name__ == \"__main__\":\n",
    "    hash_tag_list = ['bitcoin']\n",
    "#     changing file to json\n",
    "    fetched_tweets_file = \"twitter.json\"\n",
    "   \n",
    "    #twitter_streamer = TwitterStreamer()\n",
    "    #twitter_streamer.stream_tweets(fetched_tweets_file, hash_tag_list)\n"
   ]
  },
  {
   "cell_type": "code",
   "execution_count": 21,
   "metadata": {},
   "outputs": [],
   "source": [
    "# ---------------------------------------------------------------------------\n",
    "\n",
    "# api = twitter_credentials(consumer_key,\\\n",
    "#                           consumer_secret,\\\n",
    "#                           access_token_key,\\\n",
    "#                           access_token_secret)\n",
    "\n",
    "PRODUCT = \"fullarchive\"\n",
    "LABEL = \"Development\" # This is specific to your application\n",
    "# i.e. whatever label you set for your Dev environment, and is case sensitive\n",
    "# The following should be uncommented for the first web request.\n",
    "# This code was run in a Python notebook, in separate cells.\n",
    "# It might need to be restructured for other uses.\n",
    "list_tweets = []\n",
    "next = None\n",
    "web_request_count = 0"
   ]
  },
  {
   "cell_type": "code",
   "execution_count": 25,
   "metadata": {},
   "outputs": [],
   "source": [
    "while next is not None:\n",
    "    r = api.request(\"tweets/search/%s/:%s\" % (PRODUCT, LABEL),        \n",
    "               {\"query\":\"point_radius:[-85.6602 30.1588 25mi]\",\n",
    "                \"toDate\":\"201810180000\",\n",
    "                \"fromDate\":\"201810010000\",\n",
    "#                 \"next\": next # This has to be commented out for the first web request\n",
    "                }) # This is for Panama City, Florida\n",
    "    print(\"r.status_code: \", r.status_code)\n",
    "    next = r.json()[\"next\"]\n",
    "    print(\"web_request_count: \", web_request_count)\n",
    "    web_request_count += 1\n",
    "    results = r.json()[\"results\"]\n",
    "    \n",
    "    for tweet in results:\n",
    "        coordinates = tweet['coordinates']['coordinates']\n",
    "        tweet_date = tweet['created_at']\n",
    "        tweet_text = tweet['text']\n",
    "        \n",
    "        if 'extended_tweet' in tweet.keys():\n",
    "            tweet_text = tweet['extended_tweet']['full_text']\n",
    "            tweet_row = {'long_laT':coordinates,\n",
    "                        'date_utc':tweet_date,\n",
    "                        'full_text':tweet_text}\n",
    "            list_tweets.append(tweet_row)\n",
    "            df = pd.DataFrame(list_tweets)\n",
    "                \n",
    "    df.to_json('tweets_df_panama_city_25mi_oct.json', orient='records')\n",
    "    time.sleep(2.1) # wait i.e. only 30 requests per minute allowed\n",
    "    \n"
   ]
  },
  {
   "cell_type": "code",
   "execution_count": null,
   "metadata": {},
   "outputs": [],
   "source": []
  },
  {
   "cell_type": "code",
   "execution_count": null,
   "metadata": {},
   "outputs": [],
   "source": []
  },
  {
   "cell_type": "code",
   "execution_count": null,
   "metadata": {},
   "outputs": [],
   "source": []
  },
  {
   "cell_type": "code",
   "execution_count": null,
   "metadata": {},
   "outputs": [],
   "source": [
    "\n"
   ]
  },
  {
   "cell_type": "code",
   "execution_count": null,
   "metadata": {},
   "outputs": [],
   "source": []
  },
  {
   "cell_type": "code",
   "execution_count": null,
   "metadata": {},
   "outputs": [],
   "source": []
  },
  {
   "cell_type": "code",
   "execution_count": null,
   "metadata": {},
   "outputs": [],
   "source": []
  },
  {
   "cell_type": "code",
   "execution_count": null,
   "metadata": {},
   "outputs": [],
   "source": []
  }
 ],
 "metadata": {
  "kernelspec": {
   "display_name": "Python 3",
   "language": "python",
   "name": "python3"
  },
  "language_info": {
   "codemirror_mode": {
    "name": "ipython",
    "version": 3
   },
   "file_extension": ".py",
   "mimetype": "text/x-python",
   "name": "python",
   "nbconvert_exporter": "python",
   "pygments_lexer": "ipython3",
   "version": "3.7.3"
  }
 },
 "nbformat": 4,
 "nbformat_minor": 2
}
