{
 "cells": [
  {
   "cell_type": "code",
   "execution_count": 25,
   "metadata": {},
   "outputs": [],
   "source": [
    "from pprint import pprint\n",
    "import json, csv\n",
    "import pandas as pd\n",
    "from pandas.io.json import json_normalize\n",
    "import numpy as np\n",
    "import requests, json, csv\n",
    "from twython import Twython, TwythonStreamer\n",
    "from tweepy.streaming import StreamListener\n",
    "from tweepy import OAuthHandler, Stream, API, Cursor\n",
    "import twitter_credentials\n",
    "import tweepy\n",
    "from pathlib import Path\n",
    "import numpy as np\n"
   ]
  },
  {
   "cell_type": "code",
   "execution_count": 26,
   "metadata": {},
   "outputs": [],
   "source": [
    "CONSUMER_KEY = 'Hgr2TlRxnBQwANqQv6lbAPdQK'\n",
    "CONSUMER_SECRET = 'OjAgBxBOWOUcgAClfuw00KITmy1asnWwVC4DAdOtdDBtOZbtQ2'\n",
    "ACCESS_TOKEN = '1195204217041903616-Xk76aygVlQ2NjY15dZ5J6SVoGYpHrI'\n",
    "ACCESS_SECRET= 'r3dkhipY2D3DsqcHGPEUCtsq1CjpbrRzu18odz33pzyxJ'"
   ]
  },
  {
   "cell_type": "code",
   "execution_count": 27,
   "metadata": {},
   "outputs": [],
   "source": [
    "# # Path directory to save in folder\n",
    "# path = Path('Users/angy4/BootCamp-HW/Twitter API/Angeles')\n",
    "# path.mkdir(parents=True)\n",
    "# directPath = 'userTweets'\n",
    "# if not os.path.isdir(directPath):\n",
    "#     os.makedirs(directPath)\n",
    "    \n",
    "#     with open('{file_path}.csv'.format(file_path=os.path.join(dir_path, file_name), 'w+') as csv_file:\n",
    "users = []"
   ]
  },
  {
   "cell_type": "code",
   "execution_count": 28,
   "metadata": {},
   "outputs": [
    {
     "name": "stdout",
     "output_type": "stream",
     "text": [
      "[[' @BernieSanders']\n",
      " [' @realDonaldTrump']\n",
      " [' @JoeBiden']\n",
      " [' @ewarren']\n",
      " [' @Chas10Buttigieg']\n",
      " [' @KamalaHarris']\n",
      " [' @AndrewYang']\n",
      " [' @tedcruz']\n",
      " [' @SecretaryCarson']\n",
      " [' @Mike_Pence']]\n"
     ]
    }
   ],
   "source": [
    "with open ('ind_twitter_users.csv') as f:\n",
    "    \n",
    "    for line in f.readlines():\n",
    "        array=line.split(',')\n",
    "        first_item=array[0]\n",
    "        \n",
    "    num_columns= len(array)\n",
    "    f.seek(0)\n",
    "    \n",
    "    reader=csv.reader(f, delimiter=',')\n",
    "    included_cols = [1]\n",
    "    next(reader)\n",
    "    list_users = []\n",
    "    \n",
    "    for row in reader:\n",
    "        content=list(row[i] for i in included_cols)\n",
    "        if not content in list_users:\n",
    "            list_users.append(content)\n",
    "            \n",
    "    users_arr = np.array(list_users)\n",
    "    print(users_arr)"
   ]
  },
  {
   "cell_type": "code",
   "execution_count": 49,
   "metadata": {},
   "outputs": [
    {
     "data": {
      "text/plain": [
       "Index(['Name', 'Twitter Username ', 'Slogan Hashtag'], dtype='object')"
      ]
     },
     "execution_count": 49,
     "metadata": {},
     "output_type": "execute_result"
    }
   ],
   "source": [
    "userHandles = pd.read_csv(\"ind_twitter_users.csv\")\n",
    "df = pd.DataFrame(userHandles)\n",
    "\n",
    "df.columns"
   ]
  },
  {
   "cell_type": "code",
   "execution_count": 62,
   "metadata": {},
   "outputs": [
    {
     "data": {
      "text/plain": [
       "0       @BernieSanders\n",
       "1     @realDonaldTrump\n",
       "2            @JoeBiden\n",
       "3             @ewarren\n",
       "4     @Chas10Buttigieg\n",
       "5        @KamalaHarris\n",
       "6          @AndrewYang\n",
       "7             @tedcruz\n",
       "8     @SecretaryCarson\n",
       "9          @Mike_Pence\n",
       "Name: twitter_username, dtype: object"
      ]
     },
     "execution_count": 62,
     "metadata": {},
     "output_type": "execute_result"
    }
   ],
   "source": [
    "username_df = df.rename(columns={\n",
    "    \"Name\":\"name\",\n",
    "    \"Twitter Username \":\"twitter_username\",\n",
    "    \"Slogan Hashtag\":\"slogan_hashtag\"\n",
    "})\n",
    "\n",
    "\n",
    "username_df['twitter_username']"
   ]
  },
  {
   "cell_type": "code",
   "execution_count": null,
   "metadata": {},
   "outputs": [],
   "source": []
  },
  {
   "cell_type": "code",
   "execution_count": 37,
   "metadata": {},
   "outputs": [
    {
     "ename": "IndexError",
     "evalue": "list index out of range",
     "output_type": "error",
     "traceback": [
      "\u001b[1;31m---------------------------------------------------------------------------\u001b[0m",
      "\u001b[1;31mIndexError\u001b[0m                                Traceback (most recent call last)",
      "\u001b[1;32m<ipython-input-37-3b714f4b4b71>\u001b[0m in \u001b[0;36m<module>\u001b[1;34m\u001b[0m\n\u001b[0;32m     55\u001b[0m \u001b[1;33m\u001b[0m\u001b[0m\n\u001b[0;32m     56\u001b[0m \u001b[1;31m#     for i in users_arr:\u001b[0m\u001b[1;33m\u001b[0m\u001b[1;33m\u001b[0m\u001b[1;33m\u001b[0m\u001b[0m\n\u001b[1;32m---> 57\u001b[1;33m         \u001b[0mget_all_tweets\u001b[0m\u001b[1;33m(\u001b[0m\u001b[0musers_arr\u001b[0m\u001b[1;33m[\u001b[0m\u001b[1;36m0\u001b[0m\u001b[1;33m]\u001b[0m\u001b[1;33m)\u001b[0m\u001b[1;33m\u001b[0m\u001b[1;33m\u001b[0m\u001b[0m\n\u001b[0m\u001b[0;32m     58\u001b[0m         \u001b[0mpprint\u001b[0m\u001b[1;33m(\u001b[0m\u001b[0musers_arr\u001b[0m\u001b[1;33m[\u001b[0m\u001b[1;36m0\u001b[0m\u001b[1;33m]\u001b[0m\u001b[1;33m)\u001b[0m\u001b[1;33m\u001b[0m\u001b[1;33m\u001b[0m\u001b[0m\n\u001b[0;32m     59\u001b[0m \u001b[1;33m\u001b[0m\u001b[0m\n",
      "\u001b[1;32m<ipython-input-37-3b714f4b4b71>\u001b[0m in \u001b[0;36mget_all_tweets\u001b[1;34m(screen_name)\u001b[0m\n\u001b[0;32m     17\u001b[0m \u001b[1;33m\u001b[0m\u001b[0m\n\u001b[0;32m     18\u001b[0m \u001b[1;31m#save the id of the oldest tweet less one\u001b[0m\u001b[1;33m\u001b[0m\u001b[1;33m\u001b[0m\u001b[1;33m\u001b[0m\u001b[0m\n\u001b[1;32m---> 19\u001b[1;33m     \u001b[0moldest\u001b[0m \u001b[1;33m=\u001b[0m \u001b[0malltweets\u001b[0m\u001b[1;33m[\u001b[0m\u001b[1;33m-\u001b[0m\u001b[1;36m1\u001b[0m\u001b[1;33m]\u001b[0m\u001b[1;33m.\u001b[0m\u001b[0mid\u001b[0m \u001b[1;33m-\u001b[0m \u001b[1;36m1\u001b[0m\u001b[1;33m\u001b[0m\u001b[1;33m\u001b[0m\u001b[0m\n\u001b[0m\u001b[0;32m     20\u001b[0m \u001b[1;33m\u001b[0m\u001b[0m\n\u001b[0;32m     21\u001b[0m \u001b[1;31m#keep grabbing tweets until there are no tweets left to grab\u001b[0m\u001b[1;33m\u001b[0m\u001b[1;33m\u001b[0m\u001b[1;33m\u001b[0m\u001b[0m\n",
      "\u001b[1;31mIndexError\u001b[0m: list index out of range"
     ]
    }
   ],
   "source": [
    "def get_all_tweets(screen_name):\n",
    "    \n",
    "    #authorize twitter, initialize tweepy\n",
    "    auth = tweepy.OAuthHandler(CONSUMER_KEY, CONSUMER_SECRET)\n",
    "    auth.set_access_token(ACCESS_TOKEN, ACCESS_SECRET)\n",
    "    api = tweepy.API(auth)\n",
    "\n",
    "    \n",
    "#initialize a list to hold all the tweepy Tweets\n",
    "    alltweets = []\n",
    "\n",
    "#make initial request for most recent tweets (200 is the maximum allowed count)\n",
    "    new_tweets = api.user_timeline(screen_name = screen_name,count=3200)\n",
    "\n",
    "#save most recent tweets\n",
    "    alltweets.extend(new_tweets)\n",
    "\n",
    "#save the id of the oldest tweet less one\n",
    "    oldest = alltweets[-1].id - 1\n",
    "\n",
    "#keep grabbing tweets until there are no tweets left to grab\n",
    "    while len(new_tweets) > 0:\n",
    "        \n",
    "        print (\"getting tweets before %s\" % (oldest))\n",
    "\n",
    "    #all subsiquent requests use the max_id param to prevent duplicates\n",
    "        new_tweets = api.user_timeline(screen_name = screen_name,count=200,max_id=oldest)\n",
    "\n",
    "    #save most recent tweets\n",
    "        alltweets.extend(new_tweets)\n",
    "\n",
    "    #update the id of the oldest tweet less one\n",
    "        oldest = alltweets[-1].id - 1\n",
    "\n",
    "        print (\"...%s tweets downloaded so far\" % (len(alltweets)))\n",
    "\n",
    "    #transform the tweepy tweets into a 2D array that will populate the csv\t\n",
    "    \n",
    "#tweet.truncated reps whether tweet has been retweeted and is not original post\n",
    "        outtweets = [[ tweet.id_str, tweet.created_at, tweet.user, tweet.entities,\\\n",
    "                       tweet.truncated, tweet.text.encode(\"utf-8\")\n",
    "                     ] \n",
    "                 for tweet in alltweets]\n",
    "\n",
    "#     write the csv\t\n",
    "        with open('%s_tweets.json' % screen_name, 'a') as f:\n",
    "            included_cols = [2]\n",
    "            json_dumps = json.dumps(outtweets, indent=4, sort_keys=True, default=str)\n",
    "            f.write(json_dumps)\n",
    "           \n",
    "            pass\n",
    "\n",
    "\n",
    "if __name__ == '__main__':\n",
    "    \n",
    "#     for i in users_arr:\n",
    "        get_all_tweets(users_arr[0])\n",
    "        pprint(users_arr[0])\n",
    "\n",
    "        #reader already exists\n",
    "       \n",
    "                \n",
    "            \n"
   ]
  },
  {
   "cell_type": "code",
   "execution_count": null,
   "metadata": {},
   "outputs": [],
   "source": []
  },
  {
   "cell_type": "code",
   "execution_count": null,
   "metadata": {},
   "outputs": [],
   "source": []
  },
  {
   "cell_type": "code",
   "execution_count": null,
   "metadata": {},
   "outputs": [],
   "source": []
  },
  {
   "cell_type": "code",
   "execution_count": null,
   "metadata": {},
   "outputs": [],
   "source": []
  }
 ],
 "metadata": {
  "kernelspec": {
   "display_name": "Python 3",
   "language": "python",
   "name": "python3"
  },
  "language_info": {
   "codemirror_mode": {
    "name": "ipython",
    "version": 3
   },
   "file_extension": ".py",
   "mimetype": "text/x-python",
   "name": "python",
   "nbconvert_exporter": "python",
   "pygments_lexer": "ipython3",
   "version": "3.7.3"
  }
 },
 "nbformat": 4,
 "nbformat_minor": 2
}
